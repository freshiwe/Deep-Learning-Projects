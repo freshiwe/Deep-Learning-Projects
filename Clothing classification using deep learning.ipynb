{
 "cells": [
  {
   "cell_type": "code",
   "execution_count": 2,
   "id": "d6663581",
   "metadata": {},
   "outputs": [],
   "source": [
    "import tensorflow as tf\n",
    "from tensorflow import keras"
   ]
  },
  {
   "cell_type": "code",
   "execution_count": 3,
   "id": "ef9d0e2f",
   "metadata": {},
   "outputs": [
    {
     "data": {
      "text/plain": [
       "'2.12.0'"
      ]
     },
     "execution_count": 3,
     "metadata": {},
     "output_type": "execute_result"
    }
   ],
   "source": [
    "keras.__version__"
   ]
  },
  {
   "cell_type": "code",
   "execution_count": 5,
   "id": "dc8c67d7",
   "metadata": {},
   "outputs": [
    {
     "name": "stdout",
     "output_type": "stream",
     "text": [
      "Downloading data from https://storage.googleapis.com/tensorflow/tf-keras-datasets/train-labels-idx1-ubyte.gz\n",
      "29515/29515 [==============================] - 0s 2us/step\n",
      "Downloading data from https://storage.googleapis.com/tensorflow/tf-keras-datasets/train-images-idx3-ubyte.gz\n",
      "26421880/26421880 [==============================] - 4s 0us/step\n",
      "Downloading data from https://storage.googleapis.com/tensorflow/tf-keras-datasets/t10k-labels-idx1-ubyte.gz\n",
      "5148/5148 [==============================] - 0s 0s/step\n",
      "Downloading data from https://storage.googleapis.com/tensorflow/tf-keras-datasets/t10k-images-idx3-ubyte.gz\n",
      "4422102/4422102 [==============================] - 1s 0us/step\n"
     ]
    }
   ],
   "source": [
    "fashion_mnist = keras.datasets.fashion_mnist\n",
    "(X_train, y_train), (X_test, y_test) = fashion_mnist.load_data()"
   ]
  },
  {
   "cell_type": "code",
   "execution_count": 6,
   "id": "53de467a",
   "metadata": {},
   "outputs": [],
   "source": [
    "import pandas as pd\n",
    "import matplotlib.pyplot as plt\n",
    "import seaborn as sns\n",
    "import numpy as np"
   ]
  },
  {
   "cell_type": "code",
   "execution_count": 7,
   "id": "c4d7ec69",
   "metadata": {},
   "outputs": [
    {
     "data": {
      "text/plain": [
       "<matplotlib.image.AxesImage at 0x23fa0ccf670>"
      ]
     },
     "execution_count": 7,
     "metadata": {},
     "output_type": "execute_result"
    },
    {
     "data": {
      "image/png": "[encoded data removed]",
      "text/plain": [
       "<Figure size 640x480 with 1 Axes>"
      ]
     },
     "metadata": {},
     "output_type": "display_data"
    }
   ],
   "source": [
    "plt.imshow(X_train[1])"
   ]
  },
  {
   "cell_type": "code",
   "execution_count": 8,
   "id": "8b164af9",
   "metadata": {},
   "outputs": [],
   "source": [
    "class_names = [\"T-shirt/top\", \"Trouser\", \"Pullover\", \"Dress\", \"Coat\",\n",
    "               \"Sandal\", \"Shirt\", \"Sneaker\", \"Bag\", \"Ankle boot\"]"
   ]
  },
  {
   "cell_type": "code",
   "execution_count": 9,
   "id": "5ac4ce48",
   "metadata": {},
   "outputs": [],
   "source": [
    "X_train_n = X_train/255.\n",
    "X_test_n = X_test/255."
   ]
  },
  {
   "cell_type": "code",
   "execution_count": 10,
   "id": "315a31bd",
   "metadata": {},
   "outputs": [],
   "source": [
    "X_valid, X_train = X_train_n[:5000], X_train_n[5000:]\n",
    "y_valid, y_train = y_train[:5000], y_train[5000:]\n",
    "X_test = X_test_n"
   ]
  },
  {
   "cell_type": "code",
   "execution_count": 11,
   "id": "312d9491",
   "metadata": {},
   "outputs": [],
   "source": [
    "np.random.seed(42)\n",
    "tf.random.set_seed(42)"
   ]
  },
  {
   "cell_type": "code",
   "execution_count": 12,
   "id": "0c13ddec",
   "metadata": {},
   "outputs": [],
   "source": [
    "model = keras.models.Sequential()\n",
    "model.add(keras.layers.Flatten(input_shape=[28, 28]))\n",
    "model.add(keras.layers.Dense(300, activation=\"relu\"))\n",
    "model.add(keras.layers.Dense(100, activation=\"relu\"))\n",
    "model.add(keras.layers.Dense(10, activation=\"softmax\"))"
   ]
  },
  {
   "cell_type": "code",
   "execution_count": 13,
   "id": "67cc03b3",
   "metadata": {},
   "outputs": [
    {
     "name": "stdout",
     "output_type": "stream",
     "text": [
      "Model: \"sequential\"\n",
      "_________________________________________________________________\n",
      " Layer (type)                Output Shape              Param #   \n",
      "=================================================================\n",
      " flatten (Flatten)           (None, 784)               0         \n",
      "                                                                 \n",
      " dense (Dense)               (None, 300)               235500    \n",
      "                                                                 \n",
      " dense_1 (Dense)             (None, 100)               30100     \n",
      "                                                                 \n",
      " dense_2 (Dense)             (None, 10)                1010      \n",
      "                                                                 \n",
      "=================================================================\n",
      "Total params: 266,610\n",
      "Trainable params: 266,610\n",
      "Non-trainable params: 0\n",
      "_________________________________________________________________\n"
     ]
    }
   ],
   "source": [
    "model.summary()"
   ]
  },
  {
   "cell_type": "code",
   "execution_count": 20,
   "id": "b4cf1f36",
   "metadata": {},
   "outputs": [],
   "source": [
    "weights, biases = model.layers[1].get_weights()"
   ]
  },
  {
   "cell_type": "code",
   "execution_count": 21,
   "id": "fc61fdc6",
   "metadata": {},
   "outputs": [],
   "source": [
    "model.compile(loss=\"sparse_categorical_crossentropy\",\n",
    "              optimizer=\"sgd\",\n",
    "              metrics=[\"accuracy\"])"
   ]
  },
  {
   "cell_type": "code",
   "execution_count": 22,
   "id": "f033690e",
   "metadata": {},
   "outputs": [
    {
     "name": "stdout",
     "output_type": "stream",
     "text": [
      "Epoch 1/30\n",
      "1719/1719 [==============================] - 9s 5ms/step - loss: 0.7199 - accuracy: 0.7666 - val_loss: 0.5254 - val_accuracy: 0.8244\n",
      "Epoch 2/30\n",
      "1719/1719 [==============================] - 7s 4ms/step - loss: 0.4926 - accuracy: 0.8279 - val_loss: 0.4426 - val_accuracy: 0.8484\n",
      "Epoch 3/30\n",
      "1719/1719 [==============================] - 7s 4ms/step - loss: 0.4469 - accuracy: 0.8423 - val_loss: 0.5482 - val_accuracy: 0.8010\n",
      "Epoch 4/30\n",
      "1719/1719 [==============================] - 7s 4ms/step - loss: 0.4201 - accuracy: 0.8535 - val_loss: 0.4014 - val_accuracy: 0.8628\n",
      "Epoch 5/30\n",
      "1719/1719 [==============================] - 7s 4ms/step - loss: 0.4015 - accuracy: 0.8594 - val_loss: 0.3865 - val_accuracy: 0.8660\n",
      "Epoch 6/30\n",
      "1719/1719 [==============================] - 7s 4ms/step - loss: 0.3826 - accuracy: 0.8645 - val_loss: 0.3779 - val_accuracy: 0.8694\n",
      "Epoch 7/30\n",
      "1719/1719 [==============================] - 7s 4ms/step - loss: 0.3702 - accuracy: 0.8700 - val_loss: 0.3684 - val_accuracy: 0.8732\n",
      "Epoch 8/30\n",
      "1719/1719 [==============================] - 7s 4ms/step - loss: 0.3581 - accuracy: 0.8734 - val_loss: 0.3884 - val_accuracy: 0.8618\n",
      "Epoch 9/30\n",
      "1719/1719 [==============================] - 7s 4ms/step - loss: 0.3472 - accuracy: 0.8773 - val_loss: 0.3612 - val_accuracy: 0.8714\n",
      "Epoch 10/30\n",
      "1719/1719 [==============================] - 7s 4ms/step - loss: 0.3377 - accuracy: 0.8813 - val_loss: 0.3520 - val_accuracy: 0.8744\n",
      "Epoch 11/30\n",
      "1719/1719 [==============================] - 7s 4ms/step - loss: 0.3289 - accuracy: 0.8811 - val_loss: 0.3458 - val_accuracy: 0.8788\n",
      "Epoch 12/30\n",
      "1719/1719 [==============================] - 7s 4ms/step - loss: 0.3191 - accuracy: 0.8854 - val_loss: 0.3398 - val_accuracy: 0.8812\n",
      "Epoch 13/30\n",
      "1719/1719 [==============================] - 7s 4ms/step - loss: 0.3123 - accuracy: 0.8882 - val_loss: 0.3307 - val_accuracy: 0.8846\n",
      "Epoch 14/30\n",
      "1719/1719 [==============================] - 7s 4ms/step - loss: 0.3055 - accuracy: 0.8897 - val_loss: 0.3524 - val_accuracy: 0.8694\n",
      "Epoch 15/30\n",
      "1719/1719 [==============================] - 7s 4ms/step - loss: 0.2977 - accuracy: 0.8924 - val_loss: 0.3350 - val_accuracy: 0.8798\n",
      "Epoch 16/30\n",
      "1719/1719 [==============================] - 7s 4ms/step - loss: 0.2926 - accuracy: 0.8951 - val_loss: 0.3147 - val_accuracy: 0.8880\n",
      "Epoch 17/30\n",
      "1719/1719 [==============================] - 7s 4ms/step - loss: 0.2866 - accuracy: 0.8971 - val_loss: 0.3643 - val_accuracy: 0.8704\n",
      "Epoch 18/30\n",
      "1719/1719 [==============================] - 7s 4ms/step - loss: 0.2803 - accuracy: 0.8983 - val_loss: 0.3216 - val_accuracy: 0.8854\n",
      "Epoch 19/30\n",
      "1719/1719 [==============================] - 7s 4ms/step - loss: 0.2758 - accuracy: 0.9008 - val_loss: 0.3174 - val_accuracy: 0.8880\n",
      "Epoch 20/30\n",
      "1719/1719 [==============================] - 7s 4ms/step - loss: 0.2698 - accuracy: 0.9035 - val_loss: 0.3461 - val_accuracy: 0.8770\n",
      "Epoch 21/30\n",
      "1719/1719 [==============================] - 7s 4ms/step - loss: 0.2647 - accuracy: 0.9051 - val_loss: 0.3064 - val_accuracy: 0.8928\n",
      "Epoch 22/30\n",
      "1719/1719 [==============================] - 7s 4ms/step - loss: 0.2602 - accuracy: 0.9062 - val_loss: 0.3012 - val_accuracy: 0.8888\n",
      "Epoch 23/30\n",
      "1719/1719 [==============================] - 7s 4ms/step - loss: 0.2558 - accuracy: 0.9070 - val_loss: 0.3073 - val_accuracy: 0.8888\n",
      "Epoch 24/30\n",
      "1719/1719 [==============================] - 7s 4ms/step - loss: 0.2510 - accuracy: 0.9102 - val_loss: 0.3146 - val_accuracy: 0.8872\n",
      "Epoch 25/30\n",
      "1719/1719 [==============================] - 7s 4ms/step - loss: 0.2467 - accuracy: 0.9101 - val_loss: 0.3002 - val_accuracy: 0.8914\n",
      "Epoch 26/30\n",
      "1719/1719 [==============================] - 7s 4ms/step - loss: 0.2419 - accuracy: 0.9143 - val_loss: 0.3102 - val_accuracy: 0.8882\n",
      "Epoch 27/30\n",
      "1719/1719 [==============================] - 7s 4ms/step - loss: 0.2386 - accuracy: 0.9150 - val_loss: 0.3016 - val_accuracy: 0.8920\n",
      "Epoch 28/30\n",
      "1719/1719 [==============================] - 7s 4ms/step - loss: 0.2348 - accuracy: 0.9155 - val_loss: 0.3049 - val_accuracy: 0.8896\n",
      "Epoch 29/30\n",
      "1719/1719 [==============================] - 7s 4ms/step - loss: 0.2305 - accuracy: 0.9177 - val_loss: 0.3158 - val_accuracy: 0.8852\n",
      "Epoch 30/30\n",
      "1719/1719 [==============================] - 7s 4ms/step - loss: 0.2265 - accuracy: 0.9192 - val_loss: 0.3113 - val_accuracy: 0.8918\n"
     ]
    }
   ],
   "source": [
    "model_history = model.fit(X_train, y_train, epochs=30,\n",
    "                    validation_data=(X_valid, y_valid))"
   ]
  },
  {
   "cell_type": "code",
   "execution_count": 23,
   "id": "4ff33c55",
   "metadata": {},
   "outputs": [
    {
     "data": {
      "text/plain": [
       "{'verbose': 1, 'epochs': 30, 'steps': 1719}"
      ]
     },
     "execution_count": 23,
     "metadata": {},
     "output_type": "execute_result"
    }
   ],
   "source": [
    "model_history.params"
   ]
  },
  {
   "cell_type": "code",
   "execution_count": 24,
   "id": "8662b922",
   "metadata": {},
   "outputs": [
    {
     "data": {
      "text/plain": [
       "{'loss': [0.7198845148086548,\n",
       "  0.4926266074180603,\n",
       "  0.4468616545200348,\n",
       "  0.42013004422187805,\n",
       "  0.4014803171157837,\n",
       "  0.38263750076293945,\n",
       "  0.37017905712127686,\n",
       "  0.35813331604003906,\n",
       "  0.34721308946609497,\n",
       "  0.33770766854286194,\n",
       "  0.3288789987564087,\n",
       "  0.31909775733947754,\n",
       "  0.31225982308387756,\n",
       "  0.30546021461486816,\n",
       "  0.2977111041545868,\n",
       "  0.2925567030906677,\n",
       "  0.28656530380249023,\n",
       "  0.2803233563899994,\n",
       "  0.275789737701416,\n",
       "  0.26982489228248596,\n",
       "  0.26467153429985046,\n",
       "  0.26016271114349365,\n",
       "  0.25578436255455017,\n",
       "  0.2510403096675873,\n",
       "  0.24674101173877716,\n",
       "  0.24190759658813477,\n",
       "  0.23857980966567993,\n",
       "  0.2347594052553177,\n",
       "  0.23054265975952148,\n",
       "  0.22647444903850555],\n",
       " 'accuracy': [0.7666000127792358,\n",
       "  0.8279454708099365,\n",
       "  0.8422909379005432,\n",
       "  0.8534545302391052,\n",
       "  0.8594181537628174,\n",
       "  0.8644909262657166,\n",
       "  0.8700181841850281,\n",
       "  0.8733999729156494,\n",
       "  0.8772727251052856,\n",
       "  0.8812545537948608,\n",
       "  0.8810545206069946,\n",
       "  0.885418176651001,\n",
       "  0.8881999850273132,\n",
       "  0.8897091150283813,\n",
       "  0.8924363851547241,\n",
       "  0.8951272964477539,\n",
       "  0.8970727324485779,\n",
       "  0.8982727527618408,\n",
       "  0.9008363485336304,\n",
       "  0.9034727215766907,\n",
       "  0.9050909280776978,\n",
       "  0.906181812286377,\n",
       "  0.9070181846618652,\n",
       "  0.9102181792259216,\n",
       "  0.9100727438926697,\n",
       "  0.9142545461654663,\n",
       "  0.9150000214576721,\n",
       "  0.9155272841453552,\n",
       "  0.9177272915840149,\n",
       "  0.9191818237304688],\n",
       " 'val_loss': [0.5253961682319641,\n",
       "  0.4426172971725464,\n",
       "  0.5482497811317444,\n",
       "  0.4013603627681732,\n",
       "  0.3865366578102112,\n",
       "  0.37789997458457947,\n",
       "  0.3683977425098419,\n",
       "  0.38842928409576416,\n",
       "  0.3611612915992737,\n",
       "  0.3520200252532959,\n",
       "  0.34579652547836304,\n",
       "  0.3398180902004242,\n",
       "  0.3307441473007202,\n",
       "  0.35242053866386414,\n",
       "  0.33504775166511536,\n",
       "  0.3147154450416565,\n",
       "  0.3642674684524536,\n",
       "  0.32157644629478455,\n",
       "  0.31742149591445923,\n",
       "  0.34605535864830017,\n",
       "  0.30637627840042114,\n",
       "  0.3011954128742218,\n",
       "  0.3073176145553589,\n",
       "  0.3145567774772644,\n",
       "  0.30021345615386963,\n",
       "  0.31022584438323975,\n",
       "  0.30159687995910645,\n",
       "  0.30487915873527527,\n",
       "  0.3158280551433563,\n",
       "  0.31127479672431946],\n",
       " 'val_accuracy': [0.824400007724762,\n",
       "  0.8483999967575073,\n",
       "  0.8009999990463257,\n",
       "  0.8628000020980835,\n",
       "  0.8659999966621399,\n",
       "  0.8694000244140625,\n",
       "  0.873199999332428,\n",
       "  0.8618000149726868,\n",
       "  0.871399998664856,\n",
       "  0.8744000196456909,\n",
       "  0.8787999749183655,\n",
       "  0.8812000155448914,\n",
       "  0.8845999836921692,\n",
       "  0.8694000244140625,\n",
       "  0.879800021648407,\n",
       "  0.8880000114440918,\n",
       "  0.8704000115394592,\n",
       "  0.8853999972343445,\n",
       "  0.8880000114440918,\n",
       "  0.8769999742507935,\n",
       "  0.892799973487854,\n",
       "  0.8888000249862671,\n",
       "  0.8888000249862671,\n",
       "  0.8871999979019165,\n",
       "  0.8913999795913696,\n",
       "  0.8881999850273132,\n",
       "  0.8920000195503235,\n",
       "  0.8895999789237976,\n",
       "  0.885200023651123,\n",
       "  0.8917999863624573]}"
      ]
     },
     "execution_count": 24,
     "metadata": {},
     "output_type": "execute_result"
    }
   ],
   "source": [
    "model_history.history"
   ]
  },
  {
   "cell_type": "code",
   "execution_count": 25,
   "id": "b80a791d",
   "metadata": {},
   "outputs": [
    {
     "data": {
      "image/png": "[encoded data removed]",
      "text/plain": [
       "<Figure size 800x500 with 1 Axes>"
      ]
     },
     "metadata": {},
     "output_type": "display_data"
    }
   ],
   "source": [
    "import pandas as pd\n",
    "\n",
    "pd.DataFrame(model_history.history).plot(figsize=(8, 5))\n",
    "plt.grid(True)\n",
    "plt.gca().set_ylim(0, 1)\n",
    "plt.show()"
   ]
  },
  {
   "cell_type": "code",
   "execution_count": 26,
   "id": "335f6346",
   "metadata": {},
   "outputs": [
    {
     "name": "stdout",
     "output_type": "stream",
     "text": [
      "313/313 [==============================] - 1s 4ms/step - loss: 0.3391 - accuracy: 0.8833\n"
     ]
    },
    {
     "data": {
      "text/plain": [
       "[0.33905836939811707, 0.8833000063896179]"
      ]
     },
     "execution_count": 26,
     "metadata": {},
     "output_type": "execute_result"
    }
   ],
   "source": [
    "model.evaluate(X_test, y_test)"
   ]
  },
  {
   "cell_type": "code",
   "execution_count": 27,
   "id": "9c412955",
   "metadata": {},
   "outputs": [],
   "source": [
    "X_new = X_test[:3]"
   ]
  },
  {
   "cell_type": "code",
   "execution_count": 28,
   "id": "ace15458",
   "metadata": {},
   "outputs": [
    {
     "name": "stdout",
     "output_type": "stream",
     "text": [
      "1/1 [==============================] - 0s 128ms/step\n"
     ]
    },
    {
     "data": {
      "text/plain": [
       "array([[0.  , 0.  , 0.  , 0.  , 0.  , 0.02, 0.  , 0.02, 0.  , 0.96],\n",
       "       [0.  , 0.  , 0.98, 0.  , 0.02, 0.  , 0.  , 0.  , 0.  , 0.  ],\n",
       "       [0.  , 1.  , 0.  , 0.  , 0.  , 0.  , 0.  , 0.  , 0.  , 0.  ]],\n",
       "      dtype=float32)"
      ]
     },
     "execution_count": 28,
     "metadata": {},
     "output_type": "execute_result"
    }
   ],
   "source": [
    "y_proba = model.predict(X_new)\n",
    "y_proba.round(2)"
   ]
  },
  {
   "cell_type": "code",
   "execution_count": 30,
   "id": "a77b88a7",
   "metadata": {},
   "outputs": [
    {
     "name": "stdout",
     "output_type": "stream",
     "text": [
      "1/1 [==============================] - 0s 34ms/step\n"
     ]
    },
    {
     "data": {
      "text/plain": [
       "array([[6.0837249e-07, 3.9096633e-08, 6.7168326e-06, 6.1500077e-06,\n",
       "        4.3307205e-06, 1.9140052e-02, 2.8424074e-06, 2.1902908e-02,\n",
       "        3.8218198e-04, 9.5855409e-01],\n",
       "       [7.8204394e-05, 3.8445851e-08, 9.8459178e-01, 9.6755592e-08,\n",
       "        1.5004185e-02, 4.3187509e-08, 3.2485565e-04, 5.0274468e-10,\n",
       "        7.0994753e-07, 3.4149439e-10],\n",
       "       [4.3847822e-06, 9.9999356e-01, 7.9622666e-08, 1.4935467e-06,\n",
       "        4.0197457e-07, 3.4058346e-11, 2.2063190e-08, 6.7776752e-12,\n",
       "        1.5217969e-09, 3.0941040e-12]], dtype=float32)"
      ]
     },
     "execution_count": 30,
     "metadata": {},
     "output_type": "execute_result"
    }
   ],
   "source": [
    "y_pred = model.predict(X_new)\n",
    "y_pred"
   ]
  },
  {
   "cell_type": "code",
   "execution_count": null,
   "id": "8a759b44",
   "metadata": {},
   "outputs": [],
   "source": []
  }
 ],
 "metadata": {
  "kernelspec": {
   "display_name": "Python 3 (ipykernel)",
   "language": "python",
   "name": "python3"
  },
  "language_info": {
   "codemirror_mode": {
    "name": "ipython",
    "version": 3
   },
   "file_extension": ".py",
   "mimetype": "text/x-python",
   "name": "python",
   "nbconvert_exporter": "python",
   "pygments_lexer": "ipython3",
   "version": "3.9.13"
  }
 },
 "nbformat": 4,
 "nbformat_minor": 5
}
